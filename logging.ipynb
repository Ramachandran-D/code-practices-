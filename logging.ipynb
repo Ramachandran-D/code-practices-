{
 "cells": [
  {
   "cell_type": "code",
   "execution_count": null,
   "metadata": {},
   "outputs": [],
   "source": [
    "import logging\n",
    "\n",
    "logging.basicConfig(filename = 'file_class.log', level = logging.DEBUG, filemode = 'w', format = \"%(asctime)s %(levelname)s %(message)s\")\n",
    "\n",
    "class file:\n",
    "    def __init__(self,filename):\n",
    "        self.filename = filename \n",
    "\n",
    "    def read (self):\n",
    "        logging.info(\"This is a start of read operation\")\n",
    "        try:\n",
    "            logging.info(\"im inside try block of the read method\")\n",
    "            with open ('test.txt', 'r') as file:\n",
    "                data = file.read()\n",
    "                logging.info(\"im able to read the file\")\n",
    "                return data\n",
    "        except FileNotFoundError as e:\n",
    "            logging.error(\"there is some issue in the read file operation\")\n",
    "            logging.error(e)\n",
    "            #print (e)    \n",
    "                \n",
    "    def write (self,data1):\n",
    "        try:\n",
    "            with open(self.filename, 'a') as file:\n",
    "                data = file.write(data1)\n",
    "        except Exception as e:\n",
    "            print (e)        "
   ]
  },
  {
   "cell_type": "code",
   "execution_count": 30,
   "metadata": {},
   "outputs": [
    {
     "data": {
      "text/plain": [
       "'this is the written doc of the sample this is the written doc of the sample this is the written doc of the sample \\nthis is the written doc of the sample '"
      ]
     },
     "execution_count": 30,
     "metadata": {},
     "output_type": "execute_result"
    }
   ],
   "source": [
    "file_obj = file(\"test.txt\")\n",
    "file_obj.read()"
   ]
  },
  {
   "cell_type": "code",
   "execution_count": 31,
   "metadata": {},
   "outputs": [],
   "source": [
    "file_obj.write(\"\\nthis is the written doc of the sample \")"
   ]
  }
 ],
 "metadata": {
  "kernelspec": {
   "display_name": "base",
   "language": "python",
   "name": "python3"
  },
  "language_info": {
   "codemirror_mode": {
    "name": "ipython",
    "version": 3
   },
   "file_extension": ".py",
   "mimetype": "text/x-python",
   "name": "python",
   "nbconvert_exporter": "python",
   "pygments_lexer": "ipython3",
   "version": "3.11.5"
  }
 },
 "nbformat": 4,
 "nbformat_minor": 2
}
