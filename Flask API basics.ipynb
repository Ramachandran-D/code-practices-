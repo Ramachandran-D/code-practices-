{
 "cells": [
  {
   "cell_type": "code",
   "execution_count": null,
   "metadata": {},
   "outputs": [],
   "source": [
    "from flask import flask"
   ]
  },
  {
   "cell_type": "code",
   "execution_count": 24,
   "metadata": {},
   "outputs": [
    {
     "name": "stdout",
     "output_type": "stream",
     "text": [
      "^C\n",
      "Note: you may need to restart the kernel to use updated packages.\n"
     ]
    }
   ],
   "source": [
    "pip install Flask\n"
   ]
  },
  {
   "cell_type": "code",
   "execution_count": 25,
   "metadata": {},
   "outputs": [],
   "source": [
    "from flask import Flask,request,jsonify"
   ]
  },
  {
   "cell_type": "code",
   "execution_count": null,
   "metadata": {},
   "outputs": [],
   "source": [
    "app = Flask(__name__)\n",
    "\n",
    "#roting operation \n",
    "@app.route(\"/\")\n",
    "def hello_world():\n",
    "    return \"Hello world\"\n",
    "\n",
    "#roting operation \n",
    "@app.route(\"/aboutus\")\n",
    "def about():\n",
    "    return \"This is the test website which is developed by Mr.Ramachandran\"\n",
    "\n",
    "#roting operation \n",
    "@app.route(\"/demo\", methods =['POST']) \n",
    "def math_operation():\n",
    "    if (request.method =='POST'):\n",
    "        operation = request.json['operation']\n",
    "        num1 = request.json['num1']\n",
    "        num2 = request.json['num2']\n",
    "\n",
    "        if operation == \"add\":\n",
    "            result =num1+num2\n",
    "        elif operation == \"division\":\n",
    "            result =num1/num2\n",
    "        elif operation == \"multiplication\":\n",
    "            result =num1*num2\n",
    "        else:\n",
    "            result =num1-num2 \n",
    "    return jsonify(\"The operation is {} and the result is {}\".format(operation,result))\n",
    "            \n",
    "\n",
    "if __name__ == \"__main__\":\n",
    "    app.run(host = '0.0.0.0', port = 5000)"
   ]
  }
 ],
 "metadata": {
  "kernelspec": {
   "display_name": "base",
   "language": "python",
   "name": "python3"
  },
  "language_info": {
   "codemirror_mode": {
    "name": "ipython",
    "version": 3
   },
   "file_extension": ".py",
   "mimetype": "text/x-python",
   "name": "python",
   "nbconvert_exporter": "python",
   "pygments_lexer": "ipython3",
   "version": "3.11.5"
  }
 },
 "nbformat": 4,
 "nbformat_minor": 2
}
