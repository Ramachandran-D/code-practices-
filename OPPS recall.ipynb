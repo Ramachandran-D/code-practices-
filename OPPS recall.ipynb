{
 "cells": [
  {
   "cell_type": "code",
   "execution_count": 27,
   "metadata": {},
   "outputs": [
    {
     "name": "stdout",
     "output_type": "stream",
     "text": [
      "ram\n"
     ]
    }
   ],
   "source": [
    "print (\"ram\")"
   ]
  },
  {
   "cell_type": "code",
   "execution_count": 28,
   "metadata": {},
   "outputs": [
    {
     "data": {
      "text/plain": [
       "'this is method 1'"
      ]
     },
     "execution_count": 28,
     "metadata": {},
     "output_type": "execute_result"
    }
   ],
   "source": [
    "class test:\n",
    "    def meth1(self):\n",
    "        return (\"this is method 1\")\n",
    "\n",
    "t = test()\n",
    "t.meth1()"
   ]
  },
  {
   "cell_type": "code",
   "execution_count": 29,
   "metadata": {},
   "outputs": [],
   "source": [
    "class test2:\n",
    "    @staticmethod\n",
    "    def meth1():\n",
    "        return \"this is a method which can give the op without creating object\"\n",
    "\n",
    "    def meth2(self):\n",
    "        return \"this is the method 2\"\n"
   ]
  },
  {
   "cell_type": "code",
   "execution_count": 30,
   "metadata": {},
   "outputs": [
    {
     "data": {
      "text/plain": [
       "'this is a method which can give the op without creating object'"
      ]
     },
     "execution_count": 30,
     "metadata": {},
     "output_type": "execute_result"
    }
   ],
   "source": [
    "test2.meth1()"
   ]
  },
  {
   "cell_type": "code",
   "execution_count": 31,
   "metadata": {},
   "outputs": [],
   "source": [
    "class sample1:\n",
    "    def test1(self):\n",
    "        return \"this is sam1\"\n",
    "\n",
    "class sample2(sample1):\n",
    "    def test2(self):\n",
    "        return \"this is sam2\" \n",
    "\n",
    "class sample3:\n",
    "    def test3(self):\n",
    "        return \"this is sam3\"         "
   ]
  },
  {
   "cell_type": "code",
   "execution_count": 32,
   "metadata": {},
   "outputs": [
    {
     "data": {
      "text/plain": [
       "'this is sam1'"
      ]
     },
     "execution_count": 32,
     "metadata": {},
     "output_type": "execute_result"
    }
   ],
   "source": [
    "s =  sample2()\n",
    "s.test1()\n"
   ]
  },
  {
   "cell_type": "code",
   "execution_count": 33,
   "metadata": {},
   "outputs": [],
   "source": [
    "class  sam1:\n",
    "    def test(self):\n",
    "        return \"tis is sam1\"\n",
    "class  sam2:\n",
    "    def test(self):\n",
    "        return \"tis is sam2\"\n",
    "class  sam3:\n",
    "    def test(self):\n",
    "        return \"tis is sam3\""
   ]
  },
  {
   "cell_type": "code",
   "execution_count": 34,
   "metadata": {},
   "outputs": [],
   "source": [
    "s = [sam1(), sam2(),sam3()]"
   ]
  },
  {
   "cell_type": "code",
   "execution_count": 35,
   "metadata": {},
   "outputs": [
    {
     "name": "stdout",
     "output_type": "stream",
     "text": [
      "tis is sam1\n",
      "tis is sam2\n",
      "tis is sam3\n"
     ]
    }
   ],
   "source": [
    "for i in s:\n",
    "    print (i.test())"
   ]
  }
 ],
 "metadata": {
  "kernelspec": {
   "display_name": "base",
   "language": "python",
   "name": "python3"
  },
  "language_info": {
   "codemirror_mode": {
    "name": "ipython",
    "version": 3
   },
   "file_extension": ".py",
   "mimetype": "text/x-python",
   "name": "python",
   "nbconvert_exporter": "python",
   "pygments_lexer": "ipython3",
   "version": "3.11.5"
  }
 },
 "nbformat": 4,
 "nbformat_minor": 2
}
